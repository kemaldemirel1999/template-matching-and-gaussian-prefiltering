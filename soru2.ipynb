{
 "cells": [
  {
   "attachments": {},
   "cell_type": "markdown",
   "metadata": {},
   "source": [
    "Kemal Demirel\n",
    "\n",
    "191104091\n",
    "\n",
    "HW2- SORU2"
   ]
  },
  {
   "cell_type": "code",
   "execution_count": null,
   "metadata": {},
   "outputs": [],
   "source": [
    "import cv2\n",
    "import numpy as np\n",
    "import matplotlib.pyplot as plt"
   ]
  },
  {
   "attachments": {},
   "cell_type": "markdown",
   "metadata": {},
   "source": [
    "## 1-Load a gray scale image and a template"
   ]
  },
  {
   "attachments": {},
   "cell_type": "markdown",
   "metadata": {},
   "source": [
    "Load a gray scale image"
   ]
  },
  {
   "cell_type": "code",
   "execution_count": null,
   "metadata": {},
   "outputs": [],
   "source": [
    "gray_scale_image = cv2.imread('connectors.png', cv2.IMREAD_GRAYSCALE)\n",
    "plt.imshow(gray_scale_image, cmap='gray')\n",
    "plt.show()"
   ]
  },
  {
   "attachments": {},
   "cell_type": "markdown",
   "metadata": {},
   "source": [
    "Load a template"
   ]
  },
  {
   "cell_type": "code",
   "execution_count": null,
   "metadata": {},
   "outputs": [],
   "source": [
    "template = cv2.imread('connector_pattern.png', 0)\n",
    "plt.imshow(template, cmap='gray')\n",
    "plt.show()"
   ]
  },
  {
   "attachments": {},
   "cell_type": "markdown",
   "metadata": {},
   "source": [
    "## 2- Implement a correlation"
   ]
  },
  {
   "cell_type": "code",
   "execution_count": null,
   "metadata": {},
   "outputs": [],
   "source": [
    "def correlation(image, template):\n",
    "    img_h, img_w = image.shape\n",
    "    tpl_h, tpl_w = template.shape\n",
    "    \n",
    "    output = np.zeros((img_h, img_w))\n",
    "    \n",
    "    for y in range(img_h - tpl_h + 1):\n",
    "        for x in range(img_w - tpl_w + 1):\n",
    "            # Compute correlation for the current position\n",
    "            corr = np.sum(template * image[y:y+tpl_h, x:x+tpl_w])\n",
    "            output[y, x] = corr\n",
    "    return output    "
   ]
  },
  {
   "attachments": {},
   "cell_type": "markdown",
   "metadata": {},
   "source": [
    "Correlation is computed"
   ]
  },
  {
   "cell_type": "code",
   "execution_count": null,
   "metadata": {},
   "outputs": [],
   "source": [
    "result_correlation = correlation(gray_scale_image, template)\n",
    "plt.imshow(result_correlation, cmap='gray')\n",
    "plt.title(\"Image correlation\")\n",
    "plt.show()"
   ]
  },
  {
   "attachments": {},
   "cell_type": "markdown",
   "metadata": {},
   "source": [
    "## 3- Implement Zero-mean correlation"
   ]
  },
  {
   "cell_type": "code",
   "execution_count": null,
   "metadata": {},
   "outputs": [],
   "source": [
    "def zero_mean_correlation(image, template):\n",
    "    template_mean = np.mean(template)\n",
    "    template_zero_mean = template - template_mean\n",
    "    image_pad = np.pad(image, ((template.shape[0]//2,template.shape[0]//2), (template.shape[1]//2,template.shape[1]//2)), mode='constant')\n",
    "    output = np.zeros_like(image)\n",
    "    for row in range(output.shape[0]):\n",
    "        for col in range(output.shape[1]):\n",
    "            patch = image_pad[row:row+template.shape[0], col:col+template.shape[1]]\n",
    "            patch_mean = np.mean(patch)\n",
    "            zm_correlation = np.sum((template_zero_mean * (patch - patch_mean)))\n",
    "            output[row, col] = zm_correlation\n",
    "    return output"
   ]
  },
  {
   "attachments": {},
   "cell_type": "markdown",
   "metadata": {},
   "source": [
    "## 4- Implement Sum Square Difference:"
   ]
  },
  {
   "cell_type": "code",
   "execution_count": null,
   "metadata": {},
   "outputs": [],
   "source": [
    "def sum_square_difference(image, template):\n",
    "    output = np.zeros_like(image)\n",
    "    for row in range(output.shape[0]):\n",
    "        for col in range(output.shape[1]):\n",
    "            patch = image[row:row+template.shape[0], col:col+template.shape[1]]\n",
    "            ssd = np.sum((template - patch)**2)\n",
    "            output[row, col] = ssd\n",
    "\n",
    "    return output\n"
   ]
  },
  {
   "attachments": {},
   "cell_type": "markdown",
   "metadata": {},
   "source": [
    "## 5- Implement Normalized Cross Correlation:"
   ]
  },
  {
   "cell_type": "code",
   "execution_count": null,
   "metadata": {},
   "outputs": [],
   "source": [
    "def normalized_cross_correlation(image, template):\n",
    "    output = np.zeros_like(image)\n",
    "    template_mean = np.mean(template)\n",
    "    template_std = np.std(template)\n",
    "\n",
    "    for row in range(output.shape[0]):\n",
    "        for col in range(output.shape[1]):\n",
    "            patch = image[row:row+template.shape[0], col:col+template.shape[1]]\n",
    "            patch_mean = np.mean(patch)\n",
    "            patch_std = np.std(patch)\n",
    "            ncc = np.sum((template - template_mean) * (patch - patch_mean)) / (template_std * patch_std)\n",
    "            output[row, col] = ncc\n",
    "\n",
    "    return output"
   ]
  },
  {
   "attachments": {},
   "cell_type": "markdown",
   "metadata": {},
   "source": [
    "## 6- Apply your template matching functions to the following images and templates: "
   ]
  },
  {
   "attachments": {},
   "cell_type": "markdown",
   "metadata": {},
   "source": [
    "A grayscale image with a rectangular template"
   ]
  },
  {
   "cell_type": "code",
   "execution_count": null,
   "metadata": {},
   "outputs": [],
   "source": [
    "corr_output = zero_mean_correlation(gray_scale_image, template)\n",
    "ssd_output = sum_square_difference(gray_scale_image, template)\n",
    "ncc_output = normalized_cross_correlation(gray_scale_image, template)"
   ]
  },
  {
   "cell_type": "code",
   "execution_count": null,
   "metadata": {},
   "outputs": [],
   "source": [
    "fig, axs = plt.subplots(2, 2, figsize=(10, 10))\n",
    "axs[0, 0].imshow(gray_scale_image, cmap='gray')\n",
    "axs[0, 0].set_title('Original Image')\n",
    "axs[0, 1].imshow(template, cmap='gray')\n",
    "axs[0, 1].set_title('Template')\n",
    "axs[1, 0].imshow(corr_output, cmap='gray')\n",
    "axs[1, 0].set_title('Zero-Mean Correlation')\n",
    "axs[1, 1].imshow(ssd_output, cmap='gray')\n",
    "axs[1, 1].set_title('Sum Square Difference')\n",
    "plt.show()"
   ]
  },
  {
   "attachments": {},
   "cell_type": "markdown",
   "metadata": {},
   "source": [
    "A grayscale image with a circular template"
   ]
  },
  {
   "cell_type": "code",
   "execution_count": null,
   "metadata": {},
   "outputs": [],
   "source": [
    "rows, cols = template.shape\n",
    "center_row, center_col = rows//2, cols//2\n",
    "radius = 60\n",
    "y, x = np.ogrid[-center_row:rows-center_row, -center_col:cols-center_col]\n",
    "mask = x*x + y*y <= radius*radius\n",
    "template[~mask] = 0\n",
    "corr_output = zero_mean_correlation(gray_scale_image, template)\n",
    "ssd_output = sum_square_difference(gray_scale_image, template)\n",
    "ncc_output = normalized_cross_correlation(gray_scale_image, template)"
   ]
  },
  {
   "cell_type": "code",
   "execution_count": null,
   "metadata": {},
   "outputs": [],
   "source": [
    "fig, axs = plt.subplots(2, 2, figsize=(10, 10))\n",
    "axs[0, 0].imshow(gray_scale_image, cmap='gray')\n",
    "axs[0, 0].set_title('Original Image')\n",
    "axs[0, 1].imshow(template, cmap='gray')\n",
    "axs[0, 1].set_title('Template')\n",
    "axs[1, 0].imshow(corr_output, cmap='gray')\n",
    "axs[1, 0].set_title('Zero-Mean Correlation')\n",
    "axs[1, 1].imshow(ssd_output, cmap='gray')\n",
    "axs[1, 1].set_title('Sum Square Difference')\n",
    "plt.show()"
   ]
  },
  {
   "attachments": {},
   "cell_type": "markdown",
   "metadata": {},
   "source": [
    "## 7- After applying the template matching function, you will have an output image where each pixel represents the similarity measure between the template and the image at that location. To identify the matches, you can apply a threshold to the output image and then find the local maxima."
   ]
  },
  {
   "cell_type": "code",
   "execution_count": null,
   "metadata": {},
   "outputs": [],
   "source": [
    "def find_matches(image, template, threshold, method):\n",
    "    # Apply template matching function\n",
    "    if method == 'corr':\n",
    "        output = zero_mean_correlation(image, template)\n",
    "    elif method == 'ssd':\n",
    "        output = sum_square_difference(image, template)\n",
    "    elif method == 'ncc':\n",
    "        output = normalized_cross_correlation(image, template)\n",
    "    else:\n",
    "        raise ValueError('Invalid matching method specified')\n",
    "\n",
    "    # Threshold the output image to identify potential matches\n",
    "    thresholded_output = np.zeros_like(output)\n",
    "    thresholded_output[output > threshold] = 255\n",
    "\n",
    "    # Find local maxima in the thresholded image\n",
    "    local_maxima = np.zeros_like(thresholded_output)\n",
    "    h, w = thresholded_output.shape[:2]\n",
    "    for i in range(1, h-1):\n",
    "        for j in range(1, w-1):\n",
    "            if thresholded_output[i, j] > 0:\n",
    "                patch = thresholded_output[i-1:i+2, j-1:j+2]\n",
    "                if np.max(patch) == thresholded_output[i, j]:\n",
    "                    local_maxima[i, j] = 255\n",
    "\n",
    "    # Find the positions of the local maxima and record them as matches\n",
    "    matches = []\n",
    "    contours, _ = cv2.findContours(local_maxima.astype(np.uint8), cv2.RETR_EXTERNAL, cv2.CHAIN_APPROX_SIMPLE)\n",
    "    for contour in contours:\n",
    "        moments = cv2.moments(contour)\n",
    "        if moments['m00'] != 0:\n",
    "            cx = int(moments['m10'] / moments['m00'])\n",
    "            cy = int(moments['m01'] / moments['m00'])\n",
    "            matches.append((cx, cy))\n",
    "\n",
    "    # Overlay rectangles or circles on the original image at the positions of the matches\n",
    "    output_image = cv2.cvtColor(image, cv2.COLOR_GRAY2RGB)\n",
    "    if template.shape[0] > 1 and template.shape[1] > 1:\n",
    "        for match in matches:\n",
    "            if method == 'corr':\n",
    "                cv2.rectangle(output_image, (match[0], match[1]), (match[0]+template.shape[1], match[1]+template.shape[0]), (0, 255, 0), 2)\n",
    "            else:\n",
    "                cv2.circle(output_image, (match[0], match[1]), int(template.shape[1]/2), (0, 255, 0), 2)\n",
    "    else:\n",
    "        for match in matches:\n",
    "            cv2.drawMarker(output_image, (match[0], match[1]), (0, 255, 0), cv2.MARKER_CROSS, 10, 2)\n",
    "\n",
    "    return output, thresholded_output, local_maxima, output_image, matches"
   ]
  }
 ],
 "metadata": {
  "kernelspec": {
   "display_name": "base",
   "language": "python",
   "name": "python3"
  },
  "language_info": {
   "codemirror_mode": {
    "name": "ipython",
    "version": 3
   },
   "file_extension": ".py",
   "mimetype": "text/x-python",
   "name": "python",
   "nbconvert_exporter": "python",
   "pygments_lexer": "ipython3",
   "version": "3.9.12"
  },
  "orig_nbformat": 4
 },
 "nbformat": 4,
 "nbformat_minor": 2
}
